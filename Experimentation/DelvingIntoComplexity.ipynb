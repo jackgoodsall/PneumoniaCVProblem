{
 "cells": [
  {
   "cell_type": "markdown",
   "metadata": {},
   "source": [
    "# Delving into more complex models"
   ]
  },
  {
   "cell_type": "markdown",
   "metadata": {},
   "source": [
    "## Imports "
   ]
  },
  {
   "cell_type": "code",
   "execution_count": 1,
   "metadata": {},
   "outputs": [
    {
     "name": "stdout",
     "output_type": "stream",
     "text": [
      "c:\\Computational\\Learning-Machine-Learning\\PneumoniaCVProblem-1\n"
     ]
    },
    {
     "name": "stderr",
     "output_type": "stream",
     "text": [
      "c:\\Computational\\Learning-Machine-Learning\\PneumoniaCVProblem-1\\venv\\Lib\\site-packages\\tqdm\\auto.py:21: TqdmWarning: IProgress not found. Please update jupyter and ipywidgets. See https://ipywidgets.readthedocs.io/en/stable/user_install.html\n",
      "  from .autonotebook import tqdm as notebook_tqdm\n"
     ]
    }
   ],
   "source": [
    "# System imports\n",
    "import os\n",
    "import sys\n",
    "from pathlib import Path\n",
    "# Plotting imports\n",
    "import matplotlib.pyplot as plt\n",
    "from matplotlib.pyplot import imshow\n",
    "from matplotlib.pyplot import imread\n",
    "import seaborn as sn\n",
    "import cv2\n",
    "# Pytorch imports\n",
    "import torch \n",
    "import torch.nn as nn\n",
    "import torch.nn.functional as F\n",
    "# Vision imports\n",
    "import torchvision\n",
    "import torchvision.transforms as transforms\n",
    "from torch.utils.data import WeightedRandomSampler\n",
    "\n",
    "# Random\n",
    "import random\n",
    "# TQDM\n",
    "import tqdm\n",
    "\n",
    "\n",
    "\n",
    "os.chdir('..') \n",
    "print(os.getcwd())\n",
    "\n",
    "from Scripts.data_setup import create_dataloaders\n",
    "from Scripts.engine import *\n",
    "# setting up device agnostics\n",
    "DEVICE = \"cuda\" if torch.cuda.is_available() else \"cpu\"\n",
    "\n",
    "# Setting number of works and directories for data\n",
    "NUM_WORKERS = os.cpu_count()\n",
    "TRAIN_DIR = \"Data/train/\"\n",
    "TEST_DIR = \"Data/test/\"\n",
    "DATA_DIR = \"Data\"\n",
    "\n",
    "\n",
    "\n",
    "\n",
    "TRAINING_MODEL_NUMBER = 0"
   ]
  },
  {
   "cell_type": "code",
   "execution_count": 2,
   "metadata": {},
   "outputs": [],
   "source": [
    "data_augmentation_transform = data_transforms_train = transforms.Compose([\n",
    "        transforms.RandomRotation(20),  # Randomly rotate the image within a range of (-20, 20) degrees\n",
    "        transforms.RandomHorizontalFlip(p=0.5),  # Randomly flip the image horizontally with 50% probability\n",
    "        transforms.RandomResizedCrop(size=(256, 256), scale=(0.8, 1.0)),  # Randomly crop the image and resize it\n",
    "        transforms.ColorJitter(brightness=0.1, contrast=0.1, saturation=0.1, hue=0.1),  # Randomly change the brightness, contrast, saturation, and hue\n",
    "        transforms.RandomApply([transforms.RandomAffine(0, translate=(0.1, 0.1))], p=0.5),  # Randomly apply affine transformations with translation\n",
    "        transforms.RandomApply([transforms.RandomPerspective(distortion_scale=0.2)], p=0.5),  # Randomly apply perspective transformations\n",
    "        transforms.Resize(size=(256 ,256)),\n",
    "        transforms.ToTensor(),\n",
    "        transforms.Normalize(mean=[0.485, 0.456, 0.406],\n",
    "                            std=[0.229, 0.224, 0.225])\n",
    "    ])\n",
    "\n",
    "\n",
    "test_data_transform = transforms.Compose([\n",
    "        transforms.Resize(size=(256, 256)),\n",
    "        transforms.ToTensor(),\n",
    "        transforms.Normalize(mean=[0.485, 0.456, 0.406],\n",
    "                            std=[0.229, 0.224, 0.225])\n",
    "    ])"
   ]
  },
  {
   "cell_type": "markdown",
   "metadata": {},
   "source": [
    "## Convolutional neural networks"
   ]
  },
  {
   "cell_type": "markdown",
   "metadata": {},
   "source": [
    "So far we have only looked at simple feedward neural networks, we will now look at some CNN models - these will allow the network to capture some structure of the images.\n",
    "\n",
    "As CNNs can easily cope with higher dimensional images we will also upsize to 256x256 image size."
   ]
  },
  {
   "cell_type": "markdown",
   "metadata": {},
   "source": [
    "## Model 5"
   ]
  },
  {
   "cell_type": "markdown",
   "metadata": {},
   "source": [
    "Our first CNN will consist of 1 convolition layer of 16 filters, a max pool of 2x2 and then into a FFNN of 512 dense."
   ]
  },
  {
   "cell_type": "code",
   "execution_count": 3,
   "metadata": {},
   "outputs": [],
   "source": [
    "class CNNmodelv1(nn.Module):\n",
    "    def __init__(self) -> None:\n",
    "        super().__init__()\n",
    "        self.conv1 = nn.Sequential(\n",
    "            nn.Conv2d(3, 16, 3, padding =1),\n",
    "            nn.ReLU(),\n",
    "            nn.MaxPool2d(2, 2),\n",
    "            nn.ReLU(),\n",
    "            nn.Flatten(),\n",
    "            nn.Linear(16 * 128 * 128, 512),\n",
    "            nn.ReLU(),\n",
    "            nn.Linear(512, 2)\n",
    "        )\n",
    "    def forward(self, x : torch.Tensor) -> torch.Tensor:\n",
    "        return self.conv1(x)"
   ]
  },
  {
   "cell_type": "code",
   "execution_count": 4,
   "metadata": {},
   "outputs": [
    {
     "name": "stderr",
     "output_type": "stream",
     "text": [
      "C:\\Users\\jackg\\AppData\\Local\\Temp\\ipykernel_24208\\1158779927.py:28: FutureWarning: You are using `torch.load` with `weights_only=False` (the current default value), which uses the default pickle module implicitly. It is possible to construct malicious pickle data which will execute arbitrary code during unpickling (See https://github.com/pytorch/pytorch/blob/main/SECURITY.md#untrusted-models for more details). In a future release, the default value for `weights_only` will be flipped to `True`. This limits the functions that could be executed during unpickling. Arbitrary objects will no longer be allowed to be loaded via this mode unless they are explicitly allowlisted by the user via `torch.serialization.add_safe_globals`. We recommend you start setting `weights_only=True` for any use case where you don't have full control of the loaded file. Please open an issue on GitHub for any issues related to this experimental feature.\n",
      "  modelv5.load_state_dict(torch.load('Models/model_v5_weights.pth'))\n"
     ]
    },
    {
     "name": "stdout",
     "output_type": "stream",
     "text": [
      "0.9187878787878788\n"
     ]
    }
   ],
   "source": [
    "if TRAINING_MODEL_NUMBER == 5:\n",
    "\n",
    "\n",
    "    train_data, _ = create_dataloaders(TRAIN_DIR, TEST_DIR, data_augmentation_transform, 64, NUM_WORKERS)\n",
    "    _ , test_data = create_dataloaders(TRAIN_DIR, TEST_DIR, test_data_transform, 64, NUM_WORKERS)\n",
    "    print(DEVICE)\n",
    "    modelv5 = CNNmodelv1()\n",
    "    modelv5.to(DEVICE)\n",
    "\n",
    "\n",
    "    loss_func_5 = torch.nn.CrossEntropyLoss()\n",
    "    train_model(train_data,\n",
    "                test_data,                              \n",
    "                modelv5,\n",
    "                loss_func_5,\n",
    "                epoches = 10\n",
    "                )\n",
    "\n",
    "    evalutation_model(modelv5, test_data, loss_func_5)\n"
   ]
  },
  {
   "cell_type": "markdown",
   "metadata": {},
   "source": [
    "As we see our 5th model got 89% accuracy and 92% f1 score - a massive improvement in the right direction."
   ]
  },
  {
   "cell_type": "markdown",
   "metadata": {},
   "source": [
    "## Model 6"
   ]
  },
  {
   "cell_type": "markdown",
   "metadata": {},
   "source": [
    "Continuing our upwards trend we will now try a CNN with an additional convolution layer, so now we have 16 filters into 32 filters of 5x5x5, this leaves the size of the image after the 2 convolutions at 32 * 52 * 52."
   ]
  },
  {
   "cell_type": "code",
   "execution_count": 5,
   "metadata": {},
   "outputs": [],
   "source": [
    "class CNNmodelv2(nn.Module):\n",
    "    def __init__(self) -> None:\n",
    "        super().__init__()\n",
    "        self.conv1 = nn.Sequential(\n",
    "            nn.Conv2d(3, 16, 3, padding =1),\n",
    "            nn.ReLU(),\n",
    "            nn.MaxPool2d(2, 2),\n",
    "            nn.Conv2d(16, 32, 5, padding =2\n",
    "            ),\n",
    "            nn.ReLU(),\n",
    "            nn.MaxPool2d(2, 2),\n",
    "            nn.ReLU(),\n",
    "            nn.Flatten(),\n",
    "            nn.Linear(32 * 64 * 64, 512),\n",
    "            nn.ReLU(),\n",
    "            nn.Linear(512, 2)\n",
    "        )\n",
    "    def forward(self, x : torch.Tensor) -> torch.Tensor:\n",
    "        return self.conv1(x)"
   ]
  },
  {
   "cell_type": "code",
   "execution_count": 6,
   "metadata": {},
   "outputs": [
    {
     "name": "stdout",
     "output_type": "stream",
     "text": [
      "Failed to load model\n"
     ]
    },
    {
     "name": "stderr",
     "output_type": "stream",
     "text": [
      "C:\\Users\\jackg\\AppData\\Local\\Temp\\ipykernel_24208\\1470829922.py:27: FutureWarning: You are using `torch.load` with `weights_only=False` (the current default value), which uses the default pickle module implicitly. It is possible to construct malicious pickle data which will execute arbitrary code during unpickling (See https://github.com/pytorch/pytorch/blob/main/SECURITY.md#untrusted-models for more details). In a future release, the default value for `weights_only` will be flipped to `True`. This limits the functions that could be executed during unpickling. Arbitrary objects will no longer be allowed to be loaded via this mode unless they are explicitly allowlisted by the user via `torch.serialization.add_safe_globals`. We recommend you start setting `weights_only=True` for any use case where you don't have full control of the loaded file. Please open an issue on GitHub for any issues related to this experimental feature.\n",
      "  modelv6.load_state_dict(torch.load('Models/model_v6_weights.pth'))\n"
     ]
    }
   ],
   "source": [
    "if TRAINING_MODEL_NUMBER == 6:\n",
    "\n",
    "\n",
    "    train_data, _ = create_dataloaders(TRAIN_DIR, TEST_DIR, data_augmentation_transform, 64, NUM_WORKERS)\n",
    "    _ , test_data = create_dataloaders(TRAIN_DIR, TEST_DIR, test_data_transform, 64, NUM_WORKERS)\n",
    "    print(DEVICE)\n",
    "    modelv6 = CNNmodelv2()\n",
    "    modelv6.to(DEVICE)\n",
    "\n",
    "\n",
    "    loss_func_6 = torch.nn.CrossEntropyLoss()\n",
    "    train_model(train_data,\n",
    "                test_data,                              \n",
    "                modelv6,\n",
    "                loss_func_6,\n",
    "                epoches = 10\n",
    "                )\n",
    "    \n",
    "\n",
    "    evalutation_model(modelv6, test_data, loss_func_6)\n"
   ]
  },
  {
   "cell_type": "markdown",
   "metadata": {},
   "source": [
    "\n",
    "* Accuracy - 87%\n",
    "* F1 score - 90%"
   ]
  },
  {
   "cell_type": "markdown",
   "metadata": {},
   "source": [
    "## Model 7 - succesively decreasing filter sizes instead."
   ]
  },
  {
   "cell_type": "code",
   "execution_count": 7,
   "metadata": {},
   "outputs": [],
   "source": [
    "class CNNmodelv3(nn.Module):\n",
    "    def __init__(self) -> None:\n",
    "        super().__init__()\n",
    "        self.conv1 = nn.Sequential(\n",
    "            nn.Conv2d(3, 32, 3, padding =1),\n",
    "            nn.ReLU(),\n",
    "            nn.MaxPool2d(2, 2),\n",
    "            nn.Conv2d(32, 16, 5, padding =2\n",
    "            ),\n",
    "            nn.ReLU(),\n",
    "            nn.MaxPool2d(2, 2),\n",
    "            nn.ReLU(),\n",
    "            nn.Flatten(),\n",
    "            nn.Linear(16 * 64 * 64, 512),\n",
    "            nn.ReLU(),\n",
    "            nn.Linear(512, 2)\n",
    "        )\n",
    "    def forward(self, x : torch.Tensor) -> torch.Tensor:\n",
    "        return self.conv1(x)"
   ]
  },
  {
   "cell_type": "markdown",
   "metadata": {},
   "source": [
    "We will now try decrease the filter size while increasing the kernal size instead, the last one took forever to train and didn't seem to do any better then just the simple one convolutional layer."
   ]
  },
  {
   "cell_type": "code",
   "execution_count": 8,
   "metadata": {},
   "outputs": [
    {
     "name": "stdout",
     "output_type": "stream",
     "text": [
      "Failed to load model\n"
     ]
    },
    {
     "name": "stderr",
     "output_type": "stream",
     "text": [
      "C:\\Users\\jackg\\AppData\\Local\\Temp\\ipykernel_24208\\3834569929.py:27: FutureWarning: You are using `torch.load` with `weights_only=False` (the current default value), which uses the default pickle module implicitly. It is possible to construct malicious pickle data which will execute arbitrary code during unpickling (See https://github.com/pytorch/pytorch/blob/main/SECURITY.md#untrusted-models for more details). In a future release, the default value for `weights_only` will be flipped to `True`. This limits the functions that could be executed during unpickling. Arbitrary objects will no longer be allowed to be loaded via this mode unless they are explicitly allowlisted by the user via `torch.serialization.add_safe_globals`. We recommend you start setting `weights_only=True` for any use case where you don't have full control of the loaded file. Please open an issue on GitHub for any issues related to this experimental feature.\n",
      "  modelv7.load_state_dict(torch.load('Models/model_v7_weights.pth'))\n"
     ]
    }
   ],
   "source": [
    "if TRAINING_MODEL_NUMBER == 7:\n",
    "\n",
    "\n",
    "    train_data, _ = create_dataloaders(TRAIN_DIR, TEST_DIR, data_augmentation_transform, 64, NUM_WORKERS)\n",
    "    _ , test_data = create_dataloaders(TRAIN_DIR, TEST_DIR, test_data_transform, 64, NUM_WORKERS)\n",
    "    print(DEVICE)\n",
    "    modelv7 = CNNmodelv3()\n",
    "    modelv7.to(DEVICE)\n",
    "\n",
    "\n",
    "    loss_func_7 = torch.nn.CrossEntropyLoss()\n",
    "    train_model(train_data,\n",
    "                test_data,                              \n",
    "                modelv7,\n",
    "                loss_func_7,\n",
    "                epoches = 10\n",
    "                )\n",
    "    \n",
    "    evalutation_model(modelv7, test_data, loss_func_7)\n"
   ]
  },
  {
   "cell_type": "markdown",
   "metadata": {},
   "source": [
    "Model didn't seem to perform well at all and trained at lot slower then other models.\n",
    "* Accuracy - 84% \n",
    "* F1 score - 88%"
   ]
  },
  {
   "cell_type": "markdown",
   "metadata": {},
   "source": [
    "# Model 8 "
   ]
  },
  {
   "cell_type": "markdown",
   "metadata": {},
   "source": [
    "Returning to a more simple mode of 16(3) -> 32(3) -> Fc"
   ]
  },
  {
   "cell_type": "code",
   "execution_count": 9,
   "metadata": {},
   "outputs": [],
   "source": [
    "class CNNmodelv4(nn.Module):\n",
    "    def __init__(self) -> None:\n",
    "        super().__init__()\n",
    "        self.conv1 = nn.Sequential(\n",
    "            nn.Conv2d(3, 16, 3, padding =1),\n",
    "            nn.ReLU(),\n",
    "            nn.MaxPool2d(2, 2),\n",
    "            nn.Conv2d(16, 32, 3, padding =1\n",
    "            ),\n",
    "            nn.ReLU(),\n",
    "            nn.MaxPool2d(2, 2),\n",
    "            nn.ReLU(),\n",
    "            nn.Flatten(),\n",
    "            nn.Linear(32 * 64 * 64, 512),\n",
    "            nn.ReLU(),\n",
    "            nn.Linear(512, 2)\n",
    "        )\n",
    "    def forward(self, x : torch.Tensor) -> torch.Tensor:\n",
    "        return self.conv1(x)"
   ]
  },
  {
   "cell_type": "code",
   "execution_count": 10,
   "metadata": {},
   "outputs": [
    {
     "name": "stdout",
     "output_type": "stream",
     "text": [
      "Failed to load model\n"
     ]
    },
    {
     "name": "stderr",
     "output_type": "stream",
     "text": [
      "C:\\Users\\jackg\\AppData\\Local\\Temp\\ipykernel_24208\\1731340132.py:27: FutureWarning: You are using `torch.load` with `weights_only=False` (the current default value), which uses the default pickle module implicitly. It is possible to construct malicious pickle data which will execute arbitrary code during unpickling (See https://github.com/pytorch/pytorch/blob/main/SECURITY.md#untrusted-models for more details). In a future release, the default value for `weights_only` will be flipped to `True`. This limits the functions that could be executed during unpickling. Arbitrary objects will no longer be allowed to be loaded via this mode unless they are explicitly allowlisted by the user via `torch.serialization.add_safe_globals`. We recommend you start setting `weights_only=True` for any use case where you don't have full control of the loaded file. Please open an issue on GitHub for any issues related to this experimental feature.\n",
      "  modelv8.load_state_dict(torch.load('Models/model_v8_weights.pth'))\n"
     ]
    }
   ],
   "source": [
    "if TRAINING_MODEL_NUMBER == 8:\n",
    "\n",
    "\n",
    "    train_data, _ = create_dataloaders(TRAIN_DIR, TEST_DIR, data_augmentation_transform, 64, NUM_WORKERS)\n",
    "    _ , test_data = create_dataloaders(TRAIN_DIR, TEST_DIR, test_data_transform, 64, NUM_WORKERS)\n",
    "    print(DEVICE)\n",
    "    modelv8 = CNNmodelv4()\n",
    "    modelv8.to(DEVICE)\n",
    "\n",
    "\n",
    "    loss_func_8 = torch.nn.CrossEntropyLoss()\n",
    "    train_model(train_data,\n",
    "                test_data,                              \n",
    "                modelv8,\n",
    "                loss_func_8,\n",
    "                epoches = 10\n",
    "                )\n",
    "    \n",
    "    evalutation_model(modelv8, test_data, loss_func_8)\n"
   ]
  },
  {
   "cell_type": "markdown",
   "metadata": {},
   "source": [
    "Good improvement \n",
    "* Accuracy - 89%\n",
    "* F1Score - 91%"
   ]
  },
  {
   "cell_type": "markdown",
   "metadata": {},
   "source": [
    "## Model 9"
   ]
  },
  {
   "cell_type": "code",
   "execution_count": 11,
   "metadata": {},
   "outputs": [],
   "source": [
    "class CNNmodelv5(nn.Module):\n",
    "    def __init__(self) -> None:\n",
    "        super().__init__()\n",
    "        self.conv1 = nn.Sequential(\n",
    "            nn.Conv2d(3, 16, 3, padding =1),\n",
    "            nn.ReLU(),\n",
    "            nn.MaxPool2d(2, 2),\n",
    "            nn.Conv2d(16, 32, 3, padding =1\n",
    "            ),\n",
    "            nn.ReLU(),\n",
    "            nn.MaxPool2d(2, 2),\n",
    "            nn.Conv2d(32, 64, 3, padding =1\n",
    "            ),\n",
    "            nn.ReLU(),\n",
    "            nn.MaxPool2d(2, 2),\n",
    "            nn.ReLU(),\n",
    "            nn.Flatten(),\n",
    "            nn.Linear(64 * 32 * 32, 512),\n",
    "            nn.ReLU(),\n",
    "            nn.Linear(512, 2)\n",
    "        )\n",
    "    def forward(self, x : torch.Tensor) -> torch.Tensor:\n",
    "        return self.conv1(x)"
   ]
  },
  {
   "cell_type": "code",
   "execution_count": 12,
   "metadata": {},
   "outputs": [
    {
     "name": "stdout",
     "output_type": "stream",
     "text": [
      "Failed to load model\n"
     ]
    },
    {
     "name": "stderr",
     "output_type": "stream",
     "text": [
      "C:\\Users\\jackg\\AppData\\Local\\Temp\\ipykernel_24208\\3632832949.py:27: FutureWarning: You are using `torch.load` with `weights_only=False` (the current default value), which uses the default pickle module implicitly. It is possible to construct malicious pickle data which will execute arbitrary code during unpickling (See https://github.com/pytorch/pytorch/blob/main/SECURITY.md#untrusted-models for more details). In a future release, the default value for `weights_only` will be flipped to `True`. This limits the functions that could be executed during unpickling. Arbitrary objects will no longer be allowed to be loaded via this mode unless they are explicitly allowlisted by the user via `torch.serialization.add_safe_globals`. We recommend you start setting `weights_only=True` for any use case where you don't have full control of the loaded file. Please open an issue on GitHub for any issues related to this experimental feature.\n",
      "  modelv9.load_state_dict(torch.load('Models/model_v9_weights.pth'))\n"
     ]
    }
   ],
   "source": [
    "if TRAINING_MODEL_NUMBER == 9:\n",
    "\n",
    "\n",
    "    train_data, _ = create_dataloaders(TRAIN_DIR, TEST_DIR, data_augmentation_transform, 64, NUM_WORKERS)\n",
    "    _ , test_data = create_dataloaders(TRAIN_DIR, TEST_DIR, test_data_transform, 64, NUM_WORKERS)\n",
    "    print(DEVICE)\n",
    "    modelv9 = CNNmodelv5()\n",
    "    modelv9.to(DEVICE)\n",
    "\n",
    "\n",
    "    loss_func_8 = torch.nn.CrossEntropyLoss()\n",
    "    train_model(train_data,\n",
    "                test_data,                              \n",
    "                modelv9,\n",
    "                loss_func_8,\n",
    "                epoches = 10\n",
    "                )\n",
    "    evalutation_model(modelv9, test_data, loss_func_8)\n"
   ]
  },
  {
   "cell_type": "markdown",
   "metadata": {},
   "source": [
    "\n",
    "* Accuracy - 88%\n",
    "* F1SCore - 91%"
   ]
  },
  {
   "cell_type": "markdown",
   "metadata": {},
   "source": [
    "## Balancing dataset - Model 10"
   ]
  },
  {
   "cell_type": "markdown",
   "metadata": {},
   "source": [
    "We will now use a weighted sampler to give a better balance between our 2 classes, as currently the non-pnuomnia class is massively under represented. This should hopefully improve model performance."
   ]
  },
  {
   "cell_type": "code",
   "execution_count": 13,
   "metadata": {},
   "outputs": [
    {
     "name": "stdout",
     "output_type": "stream",
     "text": [
      "cuda\n",
      "Epoch: 1 | train_loss: 0.7657 | train_acc: 0.7214 | test_loss: 0.4629 | test_acc: 0.8083\n",
      "Epoch: 2 | train_loss: 0.3012 | train_acc: 0.8779 | test_loss: 0.4132 | test_acc: 0.8203\n",
      "Epoch: 3 | train_loss: 0.2528 | train_acc: 0.8982 | test_loss: 0.3590 | test_acc: 0.8625\n",
      "Epoch: 4 | train_loss: 0.2263 | train_acc: 0.9127 | test_loss: 0.3890 | test_acc: 0.8297\n",
      "Epoch: 5 | train_loss: 0.1946 | train_acc: 0.9253 | test_loss: 0.3197 | test_acc: 0.8745\n",
      "Epoch: 6 | train_loss: 0.2067 | train_acc: 0.9255 | test_loss: 0.3146 | test_acc: 0.8589\n",
      "Epoch: 7 | train_loss: 0.1769 | train_acc: 0.9339 | test_loss: 0.3591 | test_acc: 0.8542\n",
      "Epoch: 8 | train_loss: 0.1826 | train_acc: 0.9352 | test_loss: 0.3180 | test_acc: 0.8609\n",
      "Epoch: 9 | train_loss: 0.1709 | train_acc: 0.9358 | test_loss: 0.3086 | test_acc: 0.8953\n",
      "Epoch: 10 | train_loss: 0.1614 | train_acc: 0.9407 | test_loss: 0.3186 | test_acc: 0.8677\n"
     ]
    },
    {
     "data": {
      "image/png": "[encoded data removed]",
      "text/plain": [
       "<Figure size 800x600 with 1 Axes>"
      ]
     },
     "metadata": {},
     "output_type": "display_data"
    },
    {
     "name": "stdout",
     "output_type": "stream",
     "text": [
      "0.8900804289544236\n"
     ]
    }
   ],
   "source": [
    "if TRAINING_MODEL_NUMBER == 10:  # Labels of all samples in the dataset\n",
    "\n",
    "    train_data, _ = create_dataloaders(TRAIN_DIR, TEST_DIR, data_augmentation_transform, 64, NUM_WORKERS, sampler = True)\n",
    "    _ , test_data = create_dataloaders(TRAIN_DIR, TEST_DIR, test_data_transform, 64, NUM_WORKERS)\n",
    "    print(DEVICE)\n",
    "    modelv10 = CNNmodelv5()\n",
    "    modelv10.to(DEVICE)\n",
    "\n",
    "\n",
    "    loss_func_8 = torch.nn.CrossEntropyLoss()\n",
    "    train_model(train_data,\n",
    "                test_data,                              \n",
    "                modelv10,\n",
    "                loss_func_8,\n",
    "                epoches = 10\n",
    "                )\n",
    "\n",
    "    evalutation_model(modelv10, test_data, loss_func_8)\n"
   ]
  },
  {
   "cell_type": "markdown",
   "metadata": {},
   "source": [
    "Small improvement with sampling \n",
    "* Accuracy - 89% \n",
    "* F1score - 89%"
   ]
  }
 ],
 "metadata": {
  "kernelspec": {
   "display_name": "venv",
   "language": "python",
   "name": "python3"
  },
  "language_info": {
   "codemirror_mode": {
    "name": "ipython",
    "version": 3
   },
   "file_extension": ".py",
   "mimetype": "text/x-python",
   "name": "python",
   "nbconvert_exporter": "python",
   "pygments_lexer": "ipython3",
   "version": "3.12.5"
  }
 },
 "nbformat": 4,
 "nbformat_minor": 2
}
